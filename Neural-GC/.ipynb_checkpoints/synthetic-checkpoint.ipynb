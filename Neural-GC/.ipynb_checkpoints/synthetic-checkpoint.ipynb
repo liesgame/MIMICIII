{
 "cells": [
  {
   "cell_type": "code",
   "execution_count": 1,
   "id": "4022444b",
   "metadata": {},
   "outputs": [],
   "source": [
    "import numpy as np\n",
    "from scipy.integrate import odeint"
   ]
  },
  {
   "cell_type": "code",
   "execution_count": 2,
   "id": "795c7ee5",
   "metadata": {},
   "outputs": [],
   "source": [
    "# stationary 静态的\n",
    "def make_var_stationary(beta, radius=0.97):\n",
    "    '''Rescale coefficients of VAR model to make stable.'''\n",
    "    p = beta.shape[0]\n",
    "    lag = beta.shape[1] // p\n",
    "    bottom = np.hstack((np.eye(p * (lag - 1)), np.zeros((p * (lag - 1), p))))\n",
    "    beta_tilde = np.vstack((beta, bottom))\n",
    "    eigvals = np.linalg.eigvals(beta_tilde)\n",
    "    max_eig = max(np.abs(eigvals))\n",
    "    nonstationary = max_eig > radius\n",
    "    if nonstationary:\n",
    "        return make_var_stationary(0.95 * beta, radius)\n",
    "    else:\n",
    "        return beta"
   ]
  },
  {
   "cell_type": "code",
   "execution_count": 9,
   "id": "4c8c96a9",
   "metadata": {},
   "outputs": [],
   "source": [
    "def simulate_var(p, T, lag, sparsity=0.2, beta_value=1.0, sd=0.1, seed=0):\n",
    "    if seed is not None:\n",
    "        np.random.seed(seed)\n",
    "\n",
    "    # Set up coefficients and Granger causality ground truth.\n",
    "    GC = np.eye(p, dtype=int)\n",
    "    beta = np.eye(p) * beta_value\n",
    "\n",
    "    num_nonzero = int(p * sparsity) - 1\n",
    "    print('num_nonzero ', num_nonzero)\n",
    "    for i in range(p):\n",
    "        # choice [0, p-1) 所以对 > i + 1 来 对 i 上 进一步+ 1\n",
    "        choice = np.random.choice(p - 1, size=num_nonzero, replace=False)\n",
    "        choice[choice >= i] += 1\n",
    "        beta[i, choice] = beta_value\n",
    "        GC[i, choice] = 1\n",
    "\n",
    "    beta = np.hstack([beta for _ in range(lag)])\n",
    "    beta = make_var_stationary(beta)\n",
    "\n",
    "    # Generate data.\n",
    "    burn_in = 100\n",
    "    errors = np.random.normal(scale=sd, size=(p, T + burn_in))\n",
    "    X = np.zeros((p, T + burn_in))\n",
    "    X[:, :lag] = errors[:, :lag]\n",
    "    for t in range(lag, T + burn_in):\n",
    "        X[:, t] = np.dot(beta, X[:, (t-lag):t].flatten(order='F'))\n",
    "        X[:, t] += + errors[:, t-1]\n",
    "\n",
    "    return X.T[burn_in:], beta, GC"
   ]
  },
  {
   "cell_type": "code",
   "execution_count": 10,
   "id": "435f7da9",
   "metadata": {},
   "outputs": [
    {
     "name": "stdout",
     "output_type": "stream",
     "text": [
      "num_nonzero  1\n"
     ]
    }
   ],
   "source": [
    "X_np, beta, GC = simulate_var(p=10, T=1000, lag=3)"
   ]
  },
  {
   "cell_type": "code",
   "execution_count": 8,
   "id": "2bc87be3",
   "metadata": {},
   "outputs": [
    {
     "data": {
      "text/plain": [
       "(1000, 10)"
      ]
     },
     "execution_count": 8,
     "metadata": {},
     "output_type": "execute_result"
    }
   ],
   "source": [
    "X_np.shape"
   ]
  },
  {
   "cell_type": "code",
   "execution_count": 14,
   "id": "9d9edf7b",
   "metadata": {},
   "outputs": [
    {
     "data": {
      "text/plain": [
       "array([[0.14989025, 0.        , 0.        , 0.        , 0.        ,\n",
       "        0.        , 0.        , 0.        , 0.14989025, 0.        ,\n",
       "        0.14989025, 0.        , 0.        , 0.        , 0.        ,\n",
       "        0.        , 0.        , 0.        , 0.14989025, 0.        ,\n",
       "        0.14989025, 0.        , 0.        , 0.        , 0.        ,\n",
       "        0.        , 0.        , 0.        , 0.14989025, 0.        ],\n",
       "       [0.        , 0.14989025, 0.        , 0.        , 0.14989025,\n",
       "        0.        , 0.        , 0.        , 0.        , 0.        ,\n",
       "        0.        , 0.14989025, 0.        , 0.        , 0.14989025,\n",
       "        0.        , 0.        , 0.        , 0.        , 0.        ,\n",
       "        0.        , 0.14989025, 0.        , 0.        , 0.14989025,\n",
       "        0.        , 0.        , 0.        , 0.        , 0.        ],\n",
       "       [0.        , 0.        , 0.14989025, 0.        , 0.        ,\n",
       "        0.        , 0.14989025, 0.        , 0.        , 0.        ,\n",
       "        0.        , 0.        , 0.14989025, 0.        , 0.        ,\n",
       "        0.        , 0.14989025, 0.        , 0.        , 0.        ,\n",
       "        0.        , 0.        , 0.14989025, 0.        , 0.        ,\n",
       "        0.        , 0.14989025, 0.        , 0.        , 0.        ],\n",
       "       [0.        , 0.        , 0.14989025, 0.14989025, 0.        ,\n",
       "        0.        , 0.        , 0.        , 0.        , 0.        ,\n",
       "        0.        , 0.        , 0.14989025, 0.14989025, 0.        ,\n",
       "        0.        , 0.        , 0.        , 0.        , 0.        ,\n",
       "        0.        , 0.        , 0.14989025, 0.14989025, 0.        ,\n",
       "        0.        , 0.        , 0.        , 0.        , 0.        ],\n",
       "       [0.        , 0.        , 0.        , 0.        , 0.14989025,\n",
       "        0.        , 0.14989025, 0.        , 0.        , 0.        ,\n",
       "        0.        , 0.        , 0.        , 0.        , 0.14989025,\n",
       "        0.        , 0.14989025, 0.        , 0.        , 0.        ,\n",
       "        0.        , 0.        , 0.        , 0.        , 0.14989025,\n",
       "        0.        , 0.14989025, 0.        , 0.        , 0.        ],\n",
       "       [0.        , 0.        , 0.14989025, 0.        , 0.        ,\n",
       "        0.14989025, 0.        , 0.        , 0.        , 0.        ,\n",
       "        0.        , 0.        , 0.14989025, 0.        , 0.        ,\n",
       "        0.14989025, 0.        , 0.        , 0.        , 0.        ,\n",
       "        0.        , 0.        , 0.14989025, 0.        , 0.        ,\n",
       "        0.14989025, 0.        , 0.        , 0.        , 0.        ],\n",
       "       [0.        , 0.14989025, 0.        , 0.        , 0.        ,\n",
       "        0.        , 0.14989025, 0.        , 0.        , 0.        ,\n",
       "        0.        , 0.14989025, 0.        , 0.        , 0.        ,\n",
       "        0.        , 0.14989025, 0.        , 0.        , 0.        ,\n",
       "        0.        , 0.14989025, 0.        , 0.        , 0.        ,\n",
       "        0.        , 0.14989025, 0.        , 0.        , 0.        ],\n",
       "       [0.        , 0.        , 0.        , 0.14989025, 0.        ,\n",
       "        0.        , 0.        , 0.14989025, 0.        , 0.        ,\n",
       "        0.        , 0.        , 0.        , 0.14989025, 0.        ,\n",
       "        0.        , 0.        , 0.14989025, 0.        , 0.        ,\n",
       "        0.        , 0.        , 0.        , 0.14989025, 0.        ,\n",
       "        0.        , 0.        , 0.14989025, 0.        , 0.        ],\n",
       "       [0.        , 0.        , 0.        , 0.        , 0.        ,\n",
       "        0.        , 0.        , 0.        , 0.14989025, 0.14989025,\n",
       "        0.        , 0.        , 0.        , 0.        , 0.        ,\n",
       "        0.        , 0.        , 0.        , 0.14989025, 0.14989025,\n",
       "        0.        , 0.        , 0.        , 0.        , 0.        ,\n",
       "        0.        , 0.        , 0.        , 0.14989025, 0.14989025],\n",
       "       [0.        , 0.        , 0.        , 0.        , 0.14989025,\n",
       "        0.        , 0.        , 0.        , 0.        , 0.14989025,\n",
       "        0.        , 0.        , 0.        , 0.        , 0.14989025,\n",
       "        0.        , 0.        , 0.        , 0.        , 0.14989025,\n",
       "        0.        , 0.        , 0.        , 0.        , 0.14989025,\n",
       "        0.        , 0.        , 0.        , 0.        , 0.14989025]])"
      ]
     },
     "execution_count": 14,
     "metadata": {},
     "output_type": "execute_result"
    }
   ],
   "source": [
    "beta"
   ]
  },
  {
   "cell_type": "code",
   "execution_count": 7,
   "id": "c7a629fa",
   "metadata": {},
   "outputs": [
    {
     "data": {
      "text/plain": [
       "(10, 30)"
      ]
     },
     "execution_count": 7,
     "metadata": {},
     "output_type": "execute_result"
    }
   ],
   "source": [
    "beta.shape"
   ]
  },
  {
   "cell_type": "code",
   "execution_count": 11,
   "id": "ce70738c",
   "metadata": {},
   "outputs": [
    {
     "data": {
      "text/plain": [
       "array([[1, 0, 0, 0, 0, 0, 0, 0, 1, 0],\n",
       "       [0, 1, 0, 0, 1, 0, 0, 0, 0, 0],\n",
       "       [0, 0, 1, 0, 0, 0, 1, 0, 0, 0],\n",
       "       [0, 0, 1, 1, 0, 0, 0, 0, 0, 0],\n",
       "       [0, 0, 0, 0, 1, 0, 1, 0, 0, 0],\n",
       "       [0, 0, 1, 0, 0, 1, 0, 0, 0, 0],\n",
       "       [0, 1, 0, 0, 0, 0, 1, 0, 0, 0],\n",
       "       [0, 0, 0, 1, 0, 0, 0, 1, 0, 0],\n",
       "       [0, 0, 0, 0, 0, 0, 0, 0, 1, 1],\n",
       "       [0, 0, 0, 0, 1, 0, 0, 0, 0, 1]])"
      ]
     },
     "execution_count": 11,
     "metadata": {},
     "output_type": "execute_result"
    }
   ],
   "source": [
    "GC"
   ]
  },
  {
   "cell_type": "code",
   "execution_count": 12,
   "id": "6540e087",
   "metadata": {},
   "outputs": [
    {
     "data": {
      "text/plain": [
       "(10, 10)"
      ]
     },
     "execution_count": 12,
     "metadata": {},
     "output_type": "execute_result"
    }
   ],
   "source": [
    "GC.shape"
   ]
  },
  {
   "cell_type": "code",
   "execution_count": null,
   "id": "e3da3ae6",
   "metadata": {},
   "outputs": [],
   "source": []
  }
 ],
 "metadata": {
  "kernelspec": {
   "display_name": "Python [conda env:.conda-pytorch] *",
   "language": "python",
   "name": "conda-env-.conda-pytorch-py"
  },
  "language_info": {
   "codemirror_mode": {
    "name": "ipython",
    "version": 3
   },
   "file_extension": ".py",
   "mimetype": "text/x-python",
   "name": "python",
   "nbconvert_exporter": "python",
   "pygments_lexer": "ipython3",
   "version": "3.7.15"
  }
 },
 "nbformat": 4,
 "nbformat_minor": 5
}
